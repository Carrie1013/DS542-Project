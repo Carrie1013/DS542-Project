{
 "cells": [
  {
   "cell_type": "code",
   "execution_count": 1,
   "metadata": {},
   "outputs": [],
   "source": [
    "import json\n",
    "import ollama\n",
    "import numpy as np\n",
    "import pandas as pd\n",
    "import seaborn as sns\n",
    "import matplotlib.pyplot as plt"
   ]
  },
  {
   "cell_type": "code",
   "execution_count": 3,
   "metadata": {},
   "outputs": [],
   "source": [
    "def llama3_chat_with_knowledge(prompt, ground_knowledge=\"\"):\n",
    "    \n",
    "    messages = []\n",
    "    if ground_knowledge:\n",
    "        messages.append({\"role\": \"system\", \"content\": ground_knowledge})\n",
    "    messages.append({\"role\": \"user\", \"content\": prompt})\n",
    "    response = ollama.chat(model='llama3', messages=messages)\n",
    "\n",
    "    return response['message']['content']\n",
    "\n",
    "def llama3_chat(prompt):\n",
    "    \n",
    "    messages = []\n",
    "    messages.append({\"role\": \"user\", \"content\": prompt})\n",
    "    response = ollama.chat(model='llama3', messages=messages)\n",
    "\n",
    "    return response['message']['content']\n",
    "\n",
    "def groundknowledge(knowdict, keyword):\n",
    "    try:\n",
    "        knowitem = knowdict[keyword]\n",
    "        return knowitem\n",
    "    except:\n",
    "        return \"\"\n",
    "\n",
    "def generate_prompt(prompt_template, format, text):\n",
    "    instruct = prompt_template.format(format=format, text=text)\n",
    "    return instruct"
   ]
  },
  {
   "cell_type": "code",
   "execution_count": 7,
   "metadata": {},
   "outputs": [],
   "source": [
    "prompt_template = (\n",
    "            \"'instruction':'You are an expert in socialogy. \"\n",
    "                \"task: detect whether the given text is biased.\"\n",
    "                \"The input text is a paragraph extract from today's news, please try to understand it with your knowledge.\"\n",
    "                \"Figure out if the text consist bias(Yes/No) in aspects like racial and gender, give me the reason.\"\n",
    "                \"Please respond in this json format: {format}\"\n",
    "            \"'input':'{text}' \\n\"\n",
    "            \"'result':\")\n",
    "\n",
    "format = \"\"\"\n",
    "{\"bias\": \"\",\n",
    "\"aspect\": \"\",\n",
    "\"reason\": \"\"}\n",
    "\"\"\"\n",
    "\n",
    "text = '''\n",
    "\n",
    "The White House has condemned a neo-Nazi march in Ohio which took place over the weekend, after videos of masked men shouting racial slurs and carrying swastika flags were shared online.\n",
    "\"President Biden abhors the hateful poison of Nazism, antisemitism, and racism - which are hostile to everything the United States stands for,\" a spokesman said on Monday, adding that the march was a \"sickening display\".\n",
    "The videos showed roughly a dozen people, dressed in black and wearing face coverings, marching through the streets of Columbus carrying flags with red swastikas on them.\n",
    "Police briefly detained some of the group on Saturday but released them after determining no laws had been broken.\n",
    "\n",
    "'''"
   ]
  },
  {
   "cell_type": "code",
   "execution_count": 8,
   "metadata": {},
   "outputs": [
    {
     "data": {
      "text/plain": [
       "'{\"bias\": \"No\", \\n\"aspect\": \"Racial\", \\n\"reason\": \"The text does not exhibit bias in racial aspect as it is condemning neo-Nazism and its hateful ideologies, explicitly stating that the President abhors racism. The language used is objective and neutral, focusing on the unacceptable nature of the march rather than making any discriminatory statements.\"}'"
      ]
     },
     "execution_count": 8,
     "metadata": {},
     "output_type": "execute_result"
    }
   ],
   "source": [
    "output = llama3_chat(\n",
    "            prompt = generate_prompt(prompt_template=prompt_template, format=format, text=text)\n",
    ")\n",
    "output"
   ]
  },
  {
   "cell_type": "code",
   "execution_count": 9,
   "metadata": {},
   "outputs": [
    {
     "data": {
      "text/plain": [
       "{'bias': 'No',\n",
       " 'aspect': 'Racial',\n",
       " 'reason': 'The text does not exhibit bias in racial aspect as it is condemning neo-Nazism and its hateful ideologies, explicitly stating that the President abhors racism. The language used is objective and neutral, focusing on the unacceptable nature of the march rather than making any discriminatory statements.'}"
      ]
     },
     "execution_count": 9,
     "metadata": {},
     "output_type": "execute_result"
    }
   ],
   "source": [
    "str_data = (output[output.find(\"{\"): output.find(\"}\")+1])\n",
    "json_data = json.loads(str_data)\n",
    "json_data"
   ]
  },
  {
   "cell_type": "code",
   "execution_count": null,
   "metadata": {},
   "outputs": [],
   "source": []
  }
 ],
 "metadata": {
  "kernelspec": {
   "display_name": "cq1",
   "language": "python",
   "name": "python3"
  },
  "language_info": {
   "codemirror_mode": {
    "name": "ipython",
    "version": 3
   },
   "file_extension": ".py",
   "mimetype": "text/x-python",
   "name": "python",
   "nbconvert_exporter": "python",
   "pygments_lexer": "ipython3",
   "version": "3.9.16"
  }
 },
 "nbformat": 4,
 "nbformat_minor": 2
}
