{
 "cells": [
  {
   "cell_type": "code",
   "execution_count": null,
   "metadata": {},
   "outputs": [],
   "source": [
    "from PIL import Image\n",
    "import base64\n",
    "import io\n",
    " \n",
    "def image_to_base64(image_path):\n",
    "\n",
    "    with Image.open(image_path) as img:\n",
    "\n",
    "        buffered = io.BytesIO()\n",
    "        img.save(buffered, format=\"PNG\")\n",
    "        img_bytes = buffered.getvalue()\n",
    "        img_base64 = base64.b64encode(img_bytes).decode('utf-8')\n",
    "        return img_base64\n",
    " \n",
    "# Example usage\n",
    "image_path = 'try.png'\n",
    "base64_image = image_to_base64(image_path)"
   ]
  },
  {
   "cell_type": "code",
   "execution_count": 2,
   "metadata": {},
   "outputs": [
    {
     "name": "stdout",
     "output_type": "stream",
     "text": [
      "Model Response: The image shows a young woman taking a selfie in front of a mirror. The purpose of the image is to capture her reflection and share it with others.\n",
      "\n",
      "* A young woman:\n",
      "\t+ Has long dark hair\n",
      "\t+ Wears a white shirt\n",
      "\t+ Takes a selfie in front of a mirror\n",
      "* A phone:\n",
      "\t+ Is being used by the woman to take the selfie\n",
      "\t+ Is likely an iPhone due to its design and features\n",
      "* A mirror:\n",
      "\t+ Reflects the woman's image\n",
      "\t+ Allows her to see herself while taking the selfie\n",
      "\n",
      "The image suggests that the woman is interested in capturing her own reflection and sharing it with others.\n"
     ]
    }
   ],
   "source": [
    "import ollama\n",
    "\n",
    "response = ollama.chat(\n",
    "    model=\"x/llama3.2-vision:11b\",\n",
    "    messages=[{\n",
    "      \"role\": \"user\",\n",
    "      \"content\": \"Describe this image?\",\n",
    "      \"images\": [base64_image]\n",
    "    }],\n",
    ")\n",
    " \n",
    "cleaned_text = response['message']['content'].strip()\n",
    "print(f\"Model Response: {cleaned_text}\")"
   ]
  },
  {
   "cell_type": "code",
   "execution_count": null,
   "metadata": {},
   "outputs": [],
   "source": []
  }
 ],
 "metadata": {
  "kernelspec": {
   "display_name": "cq1",
   "language": "python",
   "name": "python3"
  },
  "language_info": {
   "codemirror_mode": {
    "name": "ipython",
    "version": 3
   },
   "file_extension": ".py",
   "mimetype": "text/x-python",
   "name": "python",
   "nbconvert_exporter": "python",
   "pygments_lexer": "ipython3",
   "version": "3.9.16"
  }
 },
 "nbformat": 4,
 "nbformat_minor": 2
}
